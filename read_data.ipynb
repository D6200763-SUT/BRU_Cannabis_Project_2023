{
 "cells": [
  {
   "cell_type": "code",
   "execution_count": null,
   "metadata": {},
   "outputs": [],
   "source": [
    "# import pandas as pd\n",
    "\n",
    "# url = 'https://raw.githubusercontent.com/ballkm/plp_gateway_pi/main/sensor_data1.csv?token=GHSAT0AAAAAACAOYLDZM5MSCJ5IA4V2C5OGZBP6EZQ'\n",
    "\n",
    "# # df = pd.read_csv(url,index_col=0)\n",
    "# df = pd.read_csv(url)\n",
    "# df.head(5)\n",
    "\n",
    "# file_name_save = 'dataset_CB_07-04-2023.csv'\n",
    "# Export_folder_name = '/Users/np_sut/Desktop/project_python/BRU_Cannabis_Project_2023/'\n",
    "# dataset_path_save = Export_folder_name + file_name_save\n",
    "# df.to_csv(dataset_path_save,index=False, encoding=\"TIS-620\")"
   ]
  },
  {
   "cell_type": "code",
   "execution_count": null,
   "metadata": {},
   "outputs": [],
   "source": []
  },
  {
   "cell_type": "code",
   "execution_count": null,
   "metadata": {},
   "outputs": [],
   "source": [
    "import pandas as pd\n",
    "\n",
    "df_cb = pd.read_csv('dataset_CB_07-04-2023.csv',index_col=0)\n",
    "# df_cb = pd.read_csv('dataset_CB_05-04-2023.csv')\n",
    "df_cb.head(5)\n",
    "colum_list = list(df_cb)\n"
   ]
  },
  {
   "cell_type": "code",
   "execution_count": null,
   "metadata": {},
   "outputs": [],
   "source": [
    "colum_list[21:]  "
   ]
  },
  {
   "cell_type": "code",
   "execution_count": null,
   "metadata": {},
   "outputs": [],
   "source": [
    "df_airtemp_S_Code1 = df_cb.iloc[:,1:7]\n",
    "df_airtemp_S_Code2 = df_cb.iloc[:,7:11]\n",
    "df_airhumid_S_Code1 = df_cb.iloc[:,11:17]\n",
    "df_airhumid_S_Code2 = df_cb.iloc[:,17:21]\n",
    "\n",
    "df_soil_temp_S_Code3 = df_cb.iloc[:,21:25]\n",
    "df_soil_humid_S_Code3 = df_cb.iloc[:,25:29]\n",
    "df_soil_ec_S_Code3 = df_cb.iloc[:,29:33]\n",
    "df_soil_ph_S_Code3 = df_cb.iloc[:,33:37]\n",
    "\n",
    "df_light_S_Code4 = df_cb.iloc[:,37:41]\n",
    "\n",
    "df_co2_S_Code5 = df_cb.iloc[:,41:43]"
   ]
  },
  {
   "cell_type": "code",
   "execution_count": null,
   "metadata": {},
   "outputs": [],
   "source": [
    "import plotly.express as px\n",
    "\n",
    "fig1 = px.line(df_airtemp_S_Code1,title='Air-Temperatures')\n",
    "fig1.show()\n",
    "fig2 = px.line(df_airhumid_S_Code1,title='Air-Humidity')\n",
    "fig2.show()\n",
    "\n",
    "fig3 = px.line(df_airtemp_S_Code2,title='Air-Temperatures')\n",
    "fig3.show()\n",
    "fig4 = px.line(df_airhumid_S_Code2,title='Air-Humidity')\n",
    "fig4.show()"
   ]
  },
  {
   "cell_type": "code",
   "execution_count": null,
   "metadata": {},
   "outputs": [],
   "source": [
    "fig5 = px.line(df_soil_temp_S_Code3,title='Soil-Temperatures')\n",
    "fig5.show()\n",
    "fig6 = px.line(df_soil_humid_S_Code3,title='soil-Humidity')\n",
    "fig6.show()\n",
    "fig7 = px.line(df_soil_ec_S_Code3,title='soil-EC')\n",
    "fig7.show()\n",
    "fig8 = px.line(df_soil_ph_S_Code3,title='soil-PH')\n",
    "fig8.show()\n"
   ]
  },
  {
   "cell_type": "code",
   "execution_count": null,
   "metadata": {},
   "outputs": [],
   "source": [
    "fig9 = px.line(df_light_S_Code4,title='light-Lux')\n",
    "fig9.show()"
   ]
  },
  {
   "cell_type": "code",
   "execution_count": null,
   "metadata": {},
   "outputs": [],
   "source": [
    "fig10 = px.line(df_co2_S_Code5,title='Co2')\n",
    "fig10.show()"
   ]
  }
 ],
 "metadata": {
  "kernelspec": {
   "display_name": "tf_cb",
   "language": "python",
   "name": "python3"
  },
  "language_info": {
   "codemirror_mode": {
    "name": "ipython",
    "version": 3
   },
   "file_extension": ".py",
   "mimetype": "text/x-python",
   "name": "python",
   "nbconvert_exporter": "python",
   "pygments_lexer": "ipython3",
   "version": "3.10.10"
  },
  "orig_nbformat": 4
 },
 "nbformat": 4,
 "nbformat_minor": 2
}
